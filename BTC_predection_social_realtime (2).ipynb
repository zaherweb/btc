{
  "nbformat": 4,
  "nbformat_minor": 0,
  "metadata": {
    "kernelspec": {
      "display_name": "Python 3",
      "language": "python",
      "name": "python3"
    },
    "language_info": {
      "codemirror_mode": {
        "name": "ipython",
        "version": 3
      },
      "file_extension": ".py",
      "mimetype": "text/x-python",
      "name": "python",
      "nbconvert_exporter": "python",
      "pygments_lexer": "ipython3",
      "version": "3.7.4"
    },
    "toc": {
      "base_numbering": 1,
      "nav_menu": {},
      "number_sections": true,
      "sideBar": true,
      "skip_h1_title": false,
      "title_cell": "Table of Contents",
      "title_sidebar": "Contents",
      "toc_cell": false,
      "toc_position": {},
      "toc_section_display": true,
      "toc_window_display": false
    },
    "colab": {
      "name": "BTC predection_social_realtime.ipynb",
      "provenance": [],
      "collapsed_sections": []
    },
    "accelerator": "TPU"
  },
  "cells": [
    {
      "cell_type": "markdown",
      "metadata": {
        "id": "qcP6lKG2h-u0"
      },
      "source": [
        "# BTC predection (LSTM) Real time \n"
      ]
    },
    {
      "cell_type": "code",
      "metadata": {
        "id": "G33sURqn5ttE"
      },
      "source": [
        ""
      ],
      "execution_count": null,
      "outputs": []
    },
    {
      "cell_type": "markdown",
      "metadata": {
        "id": "8b0rD9JzPeTb"
      },
      "source": [
        "**predict up to 7 minutes in the futures**"
      ]
    },
    {
      "cell_type": "code",
      "metadata": {
        "id": "3Zx5_H_rulQA",
        "colab": {
          "base_uri": "https://localhost:8080/"
        },
        "outputId": "4ff48b2d-b440-4cf4-fa08-989757e59e34"
      },
      "source": [
        "pip install yfinance"
      ],
      "execution_count": null,
      "outputs": [
        {
          "output_type": "stream",
          "name": "stdout",
          "text": [
            "Requirement already satisfied: yfinance in /usr/local/lib/python3.7/dist-packages (0.1.63)\n",
            "Requirement already satisfied: requests>=2.20 in /usr/local/lib/python3.7/dist-packages (from yfinance) (2.23.0)\n",
            "Requirement already satisfied: multitasking>=0.0.7 in /usr/local/lib/python3.7/dist-packages (from yfinance) (0.0.9)\n",
            "Requirement already satisfied: pandas>=0.24 in /usr/local/lib/python3.7/dist-packages (from yfinance) (1.1.5)\n",
            "Requirement already satisfied: lxml>=4.5.1 in /usr/local/lib/python3.7/dist-packages (from yfinance) (4.6.3)\n",
            "Requirement already satisfied: numpy>=1.15 in /usr/local/lib/python3.7/dist-packages (from yfinance) (1.19.5)\n",
            "Requirement already satisfied: python-dateutil>=2.7.3 in /usr/local/lib/python3.7/dist-packages (from pandas>=0.24->yfinance) (2.8.2)\n",
            "Requirement already satisfied: pytz>=2017.2 in /usr/local/lib/python3.7/dist-packages (from pandas>=0.24->yfinance) (2018.9)\n",
            "Requirement already satisfied: six>=1.5 in /usr/local/lib/python3.7/dist-packages (from python-dateutil>=2.7.3->pandas>=0.24->yfinance) (1.15.0)\n",
            "Requirement already satisfied: chardet<4,>=3.0.2 in /usr/local/lib/python3.7/dist-packages (from requests>=2.20->yfinance) (3.0.4)\n",
            "Requirement already satisfied: idna<3,>=2.5 in /usr/local/lib/python3.7/dist-packages (from requests>=2.20->yfinance) (2.10)\n",
            "Requirement already satisfied: certifi>=2017.4.17 in /usr/local/lib/python3.7/dist-packages (from requests>=2.20->yfinance) (2021.5.30)\n",
            "Requirement already satisfied: urllib3!=1.25.0,!=1.25.1,<1.26,>=1.21.1 in /usr/local/lib/python3.7/dist-packages (from requests>=2.20->yfinance) (1.24.3)\n"
          ]
        }
      ]
    },
    {
      "cell_type": "markdown",
      "metadata": {
        "id": "H0LOAi5jh-u_"
      },
      "source": [
        "### Liberary"
      ]
    },
    {
      "cell_type": "code",
      "metadata": {
        "id": "rSKh946Uh-vA"
      },
      "source": [
        "from keras.models import Sequential, load_model\n",
        "from keras.layers import LSTM, Dense, Dropout\n",
        "import os\n",
        "import numpy as np\n",
        "import pandas as pd\n",
        "import matplotlib.pyplot as plt\n",
        "from sklearn.preprocessing import MinMaxScaler\n",
        "import yfinance as yf\n",
        "\n",
        "\n",
        "import datetime\n",
        "from matplotlib.dates import DateFormatter\n",
        "import matplotlib.dates as mdates\n",
        "import numpy as np\n",
        "import matplotlib.pyplot as plt\n",
        "import pandas as pd\n",
        "from sklearn.preprocessing import MinMaxScaler"
      ],
      "execution_count": null,
      "outputs": []
    },
    {
      "cell_type": "markdown",
      "metadata": {
        "id": "j-dkl-Fqh-vC"
      },
      "source": [
        "###  Dataset"
      ]
    },
    {
      "cell_type": "code",
      "metadata": {
        "id": "ZhMk6-S2us7H"
      },
      "source": [
        ""
      ],
      "execution_count": null,
      "outputs": []
    },
    {
      "cell_type": "code",
      "metadata": {
        "id": "lL0_c2-Jus9-"
      },
      "source": [
        "#testing on finance of yahoo"
      ],
      "execution_count": null,
      "outputs": []
    },
    {
      "cell_type": "code",
      "metadata": {
        "colab": {
          "base_uri": "https://localhost:8080/",
          "height": 464
        },
        "id": "hX9sVZ9Cu0hQ",
        "outputId": "a1f04b39-7d9c-420e-9011-00cbe22248bb"
      },
      "source": [
        "\n",
        "# Get the data\n",
        "data = yf.download(tickers='BTC-USD', period = '5d', interval = '1m')\n",
        "\n",
        "dd = data\n",
        "data"
      ],
      "execution_count": null,
      "outputs": [
        {
          "output_type": "stream",
          "name": "stdout",
          "text": [
            "\r[*********************100%***********************]  1 of 1 completed\n"
          ]
        },
        {
          "output_type": "execute_result",
          "data": {
            "text/html": [
              "<div>\n",
              "<style scoped>\n",
              "    .dataframe tbody tr th:only-of-type {\n",
              "        vertical-align: middle;\n",
              "    }\n",
              "\n",
              "    .dataframe tbody tr th {\n",
              "        vertical-align: top;\n",
              "    }\n",
              "\n",
              "    .dataframe thead th {\n",
              "        text-align: right;\n",
              "    }\n",
              "</style>\n",
              "<table border=\"1\" class=\"dataframe\">\n",
              "  <thead>\n",
              "    <tr style=\"text-align: right;\">\n",
              "      <th></th>\n",
              "      <th>Open</th>\n",
              "      <th>High</th>\n",
              "      <th>Low</th>\n",
              "      <th>Close</th>\n",
              "      <th>Adj Close</th>\n",
              "      <th>Volume</th>\n",
              "    </tr>\n",
              "    <tr>\n",
              "      <th>Datetime</th>\n",
              "      <th></th>\n",
              "      <th></th>\n",
              "      <th></th>\n",
              "      <th></th>\n",
              "      <th></th>\n",
              "      <th></th>\n",
              "    </tr>\n",
              "  </thead>\n",
              "  <tbody>\n",
              "    <tr>\n",
              "      <th>2021-09-09 00:00:00+01:00</th>\n",
              "      <td>46604.746094</td>\n",
              "      <td>46604.746094</td>\n",
              "      <td>46604.746094</td>\n",
              "      <td>46604.746094</td>\n",
              "      <td>46604.746094</td>\n",
              "      <td>0</td>\n",
              "    </tr>\n",
              "    <tr>\n",
              "      <th>2021-09-09 00:01:00+01:00</th>\n",
              "      <td>46597.089844</td>\n",
              "      <td>46597.089844</td>\n",
              "      <td>46597.089844</td>\n",
              "      <td>46597.089844</td>\n",
              "      <td>46597.089844</td>\n",
              "      <td>0</td>\n",
              "    </tr>\n",
              "    <tr>\n",
              "      <th>2021-09-09 00:02:00+01:00</th>\n",
              "      <td>46600.867188</td>\n",
              "      <td>46600.867188</td>\n",
              "      <td>46600.867188</td>\n",
              "      <td>46600.867188</td>\n",
              "      <td>46600.867188</td>\n",
              "      <td>421888</td>\n",
              "    </tr>\n",
              "    <tr>\n",
              "      <th>2021-09-09 00:03:00+01:00</th>\n",
              "      <td>46609.292969</td>\n",
              "      <td>46609.292969</td>\n",
              "      <td>46609.292969</td>\n",
              "      <td>46609.292969</td>\n",
              "      <td>46609.292969</td>\n",
              "      <td>2629632</td>\n",
              "    </tr>\n",
              "    <tr>\n",
              "      <th>2021-09-09 00:04:00+01:00</th>\n",
              "      <td>46669.906250</td>\n",
              "      <td>46669.906250</td>\n",
              "      <td>46669.906250</td>\n",
              "      <td>46669.906250</td>\n",
              "      <td>46669.906250</td>\n",
              "      <td>4055040</td>\n",
              "    </tr>\n",
              "    <tr>\n",
              "      <th>...</th>\n",
              "      <td>...</td>\n",
              "      <td>...</td>\n",
              "      <td>...</td>\n",
              "      <td>...</td>\n",
              "      <td>...</td>\n",
              "      <td>...</td>\n",
              "    </tr>\n",
              "    <tr>\n",
              "      <th>2021-09-13 22:02:00+01:00</th>\n",
              "      <td>45460.640625</td>\n",
              "      <td>45460.640625</td>\n",
              "      <td>45460.640625</td>\n",
              "      <td>45460.640625</td>\n",
              "      <td>45460.640625</td>\n",
              "      <td>35893248</td>\n",
              "    </tr>\n",
              "    <tr>\n",
              "      <th>2021-09-13 22:03:00+01:00</th>\n",
              "      <td>45381.246094</td>\n",
              "      <td>45381.246094</td>\n",
              "      <td>45381.246094</td>\n",
              "      <td>45381.246094</td>\n",
              "      <td>45381.246094</td>\n",
              "      <td>0</td>\n",
              "    </tr>\n",
              "    <tr>\n",
              "      <th>2021-09-13 22:04:00+01:00</th>\n",
              "      <td>45359.972656</td>\n",
              "      <td>45359.972656</td>\n",
              "      <td>45359.972656</td>\n",
              "      <td>45359.972656</td>\n",
              "      <td>45359.972656</td>\n",
              "      <td>49299456</td>\n",
              "    </tr>\n",
              "    <tr>\n",
              "      <th>2021-09-13 22:05:00+01:00</th>\n",
              "      <td>45359.839844</td>\n",
              "      <td>45359.839844</td>\n",
              "      <td>45359.839844</td>\n",
              "      <td>45359.839844</td>\n",
              "      <td>45359.839844</td>\n",
              "      <td>0</td>\n",
              "    </tr>\n",
              "    <tr>\n",
              "      <th>2021-09-13 22:06:02+01:00</th>\n",
              "      <td>45311.480469</td>\n",
              "      <td>45311.480469</td>\n",
              "      <td>45311.480469</td>\n",
              "      <td>45311.480469</td>\n",
              "      <td>45311.480469</td>\n",
              "      <td>0</td>\n",
              "    </tr>\n",
              "  </tbody>\n",
              "</table>\n",
              "<p>7025 rows × 6 columns</p>\n",
              "</div>"
            ],
            "text/plain": [
              "                                   Open          High  ...     Adj Close    Volume\n",
              "Datetime                                               ...                        \n",
              "2021-09-09 00:00:00+01:00  46604.746094  46604.746094  ...  46604.746094         0\n",
              "2021-09-09 00:01:00+01:00  46597.089844  46597.089844  ...  46597.089844         0\n",
              "2021-09-09 00:02:00+01:00  46600.867188  46600.867188  ...  46600.867188    421888\n",
              "2021-09-09 00:03:00+01:00  46609.292969  46609.292969  ...  46609.292969   2629632\n",
              "2021-09-09 00:04:00+01:00  46669.906250  46669.906250  ...  46669.906250   4055040\n",
              "...                                 ...           ...  ...           ...       ...\n",
              "2021-09-13 22:02:00+01:00  45460.640625  45460.640625  ...  45460.640625  35893248\n",
              "2021-09-13 22:03:00+01:00  45381.246094  45381.246094  ...  45381.246094         0\n",
              "2021-09-13 22:04:00+01:00  45359.972656  45359.972656  ...  45359.972656  49299456\n",
              "2021-09-13 22:05:00+01:00  45359.839844  45359.839844  ...  45359.839844         0\n",
              "2021-09-13 22:06:02+01:00  45311.480469  45311.480469  ...  45311.480469         0\n",
              "\n",
              "[7025 rows x 6 columns]"
            ]
          },
          "metadata": {},
          "execution_count": 4
        }
      ]
    },
    {
      "cell_type": "code",
      "metadata": {
        "colab": {
          "base_uri": "https://localhost:8080/",
          "height": 436
        },
        "id": "S9Wc_Docxbzi",
        "outputId": "4c4bd3f6-ffbe-4dcd-b8c6-29a78b3a5069"
      },
      "source": [
        "# Plot the adjusted close price\n",
        "data['Close'].plot(figsize=(10, 7))\n",
        "\n",
        "# Define the labels for x-axis and y-axis\n",
        "plt.ylabel('Price', fontsize=14)\n",
        "plt.xlabel('Year', fontsize=14)\n",
        "\n",
        "# Plot the grid lines\n",
        "plt.grid(which=\"major\", color='k', linestyle='-.', linewidth=0.5)\n",
        "\n",
        "# Show the plot\n",
        "plt.show()"
      ],
      "execution_count": null,
      "outputs": [
        {
          "output_type": "display_data",
          "data": {
            "image/png": "[encoded data removed]",
            "text/plain": [
              "<Figure size 720x504 with 1 Axes>"
            ]
          },
          "metadata": {
            "needs_background": "light"
          }
        }
      ]
    },
    {
      "cell_type": "code",
      "metadata": {
        "id": "BKFhc6jTPfWk"
      },
      "source": [
        ""
      ],
      "execution_count": null,
      "outputs": []
    },
    {
      "cell_type": "code",
      "metadata": {
        "id": "k4zWUbrdA-Ox",
        "colab": {
          "base_uri": "https://localhost:8080/"
        },
        "outputId": "bf0dfd75-5a26-4dd1-9ca3-ee6e9ab3c0b7"
      },
      "source": [
        "df = data['Close'].values\n",
        "df = df.reshape(-1, 1)\n",
        "print(df.shape)\n",
        "df[:5]"
      ],
      "execution_count": null,
      "outputs": [
        {
          "output_type": "stream",
          "name": "stdout",
          "text": [
            "(7025, 1)\n"
          ]
        },
        {
          "output_type": "execute_result",
          "data": {
            "text/plain": [
              "array([[46604.74609375],\n",
              "       [46597.08984375],\n",
              "       [46600.8671875 ],\n",
              "       [46609.29296875],\n",
              "       [46669.90625   ]])"
            ]
          },
          "metadata": {},
          "execution_count": 6
        }
      ]
    },
    {
      "cell_type": "code",
      "metadata": {
        "id": "75j4ZDp1A-RC",
        "colab": {
          "base_uri": "https://localhost:8080/"
        },
        "outputId": "170ec6b4-e80b-4f53-80d9-8596bff8bd97"
      },
      "source": [
        "dataset_train = np.array(df[:int(df.shape[0]*0.8)])\n",
        "dataset_test = np.array(df[int(df.shape[0]*0.8)-5:])\n",
        "print(dataset_train.shape)\n",
        "print(dataset_test.shape)"
      ],
      "execution_count": null,
      "outputs": [
        {
          "output_type": "stream",
          "name": "stdout",
          "text": [
            "(5620, 1)\n",
            "(1410, 1)\n"
          ]
        }
      ]
    },
    {
      "cell_type": "code",
      "metadata": {
        "id": "8uDi0tDVA-TT",
        "colab": {
          "base_uri": "https://localhost:8080/"
        },
        "outputId": "30b1aa55-d356-43bd-ae6b-64a50680979e"
      },
      "source": [
        "scaler = MinMaxScaler(feature_range=(0,1))\n",
        "dataset_train = scaler.fit_transform(dataset_train)\n",
        "dataset_train[:5]"
      ],
      "execution_count": null,
      "outputs": [
        {
          "output_type": "execute_result",
          "data": {
            "text/plain": [
              "array([[0.78562045],\n",
              "       [0.78312298],\n",
              "       [0.78435515],\n",
              "       [0.78710364],\n",
              "       [0.80687568]])"
            ]
          },
          "metadata": {},
          "execution_count": 8
        }
      ]
    },
    {
      "cell_type": "code",
      "metadata": {
        "id": "Ta3y-EmrA-VA",
        "colab": {
          "base_uri": "https://localhost:8080/"
        },
        "outputId": "f3d573ff-8f46-4aa2-c1f7-626983f337d6"
      },
      "source": [
        "dataset_test = scaler.transform(dataset_test)\n",
        "dataset_test[:5]"
      ],
      "execution_count": null,
      "outputs": [
        {
          "output_type": "execute_result",
          "data": {
            "text/plain": [
              "array([[0.26875681],\n",
              "       [0.26930727],\n",
              "       [0.28808288],\n",
              "       [0.30393415],\n",
              "       [0.30955855]])"
            ]
          },
          "metadata": {},
          "execution_count": 10
        }
      ]
    },
    {
      "cell_type": "code",
      "metadata": {
        "id": "RWyPhfpiA-XH"
      },
      "source": [
        "def create_dataset(df):\n",
        "    x = []\n",
        "    y = []\n",
        "    for i in range(20, df.shape[0]):\n",
        "        x.append(df[i-20:i, 0])\n",
        "        y.append(df[i, 0])\n",
        "    x = np.array(x)\n",
        "    y = np.array(y)\n",
        "    return x,y "
      ],
      "execution_count": null,
      "outputs": []
    },
    {
      "cell_type": "code",
      "metadata": {
        "colab": {
          "base_uri": "https://localhost:8080/"
        },
        "id": "nwsrPRsK0mfb",
        "outputId": "3aeb963c-050c-4a89-dce2-b3f4ad8e5c49"
      },
      "source": [
        "x_train, y_train = create_dataset(dataset_train)\n",
        "x_train[:1]"
      ],
      "execution_count": null,
      "outputs": [
        {
          "output_type": "execute_result",
          "data": {
            "text/plain": [
              "array([[0.78562045, 0.78312298, 0.78435515, 0.78710364, 0.80687568,\n",
              "        0.79115438, 0.74587249, 0.73065068, 0.75097318, 0.75248186,\n",
              "        0.76324518, 0.75524691, 0.74072974, 0.73072204, 0.73023274,\n",
              "        0.73016138, 0.73604699, 0.73029772, 0.72485426, 0.71909352]])"
            ]
          },
          "metadata": {},
          "execution_count": 12
        }
      ]
    },
    {
      "cell_type": "code",
      "metadata": {
        "colab": {
          "base_uri": "https://localhost:8080/"
        },
        "id": "ugXpJ9zi0mfb",
        "outputId": "855d5de5-936d-4381-c807-1f8bc9aabbac"
      },
      "source": [
        "x_test, y_test = create_dataset(dataset_test)\n",
        "x_test[:1]"
      ],
      "execution_count": null,
      "outputs": [
        {
          "output_type": "execute_result",
          "data": {
            "text/plain": [
              "array([[0.26875681, 0.26930727, 0.28808288, 0.30393415, 0.30955855,\n",
              "        0.30453176, 0.29252862, 0.29477889, 0.29332883, 0.29461069,\n",
              "        0.29509999, 0.29571926, 0.29628119, 0.28986805, 0.29064405,\n",
              "        0.30464134, 0.30990768, 0.32279385, 0.32251607, 0.33437777]])"
            ]
          },
          "metadata": {},
          "execution_count": 13
        }
      ]
    },
    {
      "cell_type": "code",
      "metadata": {
        "id": "8vxw9INz0mfc"
      },
      "source": [
        "# Reshape features for LSTM Layer\n",
        "x_train = np.reshape(x_train, (x_train.shape[0], x_train.shape[1], 1))\n",
        "x_test = np.reshape(x_test, (x_test.shape[0], x_test.shape[1], 1))"
      ],
      "execution_count": null,
      "outputs": []
    },
    {
      "cell_type": "markdown",
      "metadata": {
        "id": "6DvhIorU0s58"
      },
      "source": [
        "### Building Model"
      ]
    },
    {
      "cell_type": "markdown",
      "metadata": {
        "id": "Sw1YQJec0s59"
      },
      "source": [
        "for model pramter we can use grid search to get best prameter ,but also as first step we can work with this prameter."
      ]
    },
    {
      "cell_type": "code",
      "metadata": {
        "id": "AZ1D2pIG0s5-"
      },
      "source": [
        "model = Sequential()\n",
        "model.add(LSTM(units=96, return_sequences=True, input_shape=(x_train.shape[1], 1)))\n",
        "model.add(Dropout(0.2))\n",
        "\n",
        "model.add(LSTM(units=96, return_sequences=True))\n",
        "model.add(Dropout(0.2))\n",
        "\n",
        "model.add(LSTM(units=96, return_sequences=True))\n",
        "model.add(Dropout(0.2))\n",
        "model.add(LSTM(units=96))\n",
        "model.add(Dropout(0.2))\n",
        "#final layer dense\n",
        "model.add(Dense(units=1))"
      ],
      "execution_count": null,
      "outputs": []
    },
    {
      "cell_type": "code",
      "metadata": {
        "id": "ClMb8g0h0s5-"
      },
      "source": [
        "\n",
        "model.compile(loss='mean_squared_error', optimizer='adam')"
      ],
      "execution_count": null,
      "outputs": []
    },
    {
      "cell_type": "markdown",
      "metadata": {
        "id": "yI3LLqwa0s5_"
      },
      "source": [
        "we can add early stop and saving best only here also."
      ]
    },
    {
      "cell_type": "code",
      "metadata": {
        "scrolled": true,
        "colab": {
          "base_uri": "https://localhost:8080/"
        },
        "id": "PVND4Yjs0s5_",
        "outputId": "277c1407-0d15-4d87-a250-1068815eb806"
      },
      "source": [
        "model.fit(x_train, y_train, epochs=400, batch_size=32)\n",
        "    \n",
        "    \n",
        "model.save('btc.h5')\n",
        "\n",
        "    # training "
      ],
      "execution_count": null,
      "outputs": [
        {
          "output_type": "stream",
          "name": "stdout",
          "text": [
            "Epoch 1/20\n",
            "175/175 [==============================] - 16s 65ms/step - loss: 0.0111\n",
            "Epoch 2/20\n",
            "175/175 [==============================] - 11s 66ms/step - loss: 0.0036\n",
            "Epoch 3/20\n",
            "175/175 [==============================] - 11s 65ms/step - loss: 0.0034\n",
            "Epoch 4/20\n",
            "175/175 [==============================] - 11s 65ms/step - loss: 0.0029\n",
            "Epoch 5/20\n",
            "175/175 [==============================] - 12s 66ms/step - loss: 0.0026\n",
            "Epoch 6/20\n",
            "175/175 [==============================] - 11s 65ms/step - loss: 0.0022\n",
            "Epoch 7/20\n",
            "175/175 [==============================] - 11s 65ms/step - loss: 0.0021\n",
            "Epoch 8/20\n",
            "175/175 [==============================] - 11s 65ms/step - loss: 0.0018\n",
            "Epoch 9/20\n",
            "175/175 [==============================] - 11s 65ms/step - loss: 0.0016\n",
            "Epoch 10/20\n",
            "175/175 [==============================] - 11s 65ms/step - loss: 0.0015\n",
            "Epoch 11/20\n",
            "175/175 [==============================] - 12s 66ms/step - loss: 0.0015\n",
            "Epoch 12/20\n",
            "175/175 [==============================] - 11s 65ms/step - loss: 0.0014\n",
            "Epoch 13/20\n",
            "175/175 [==============================] - 11s 65ms/step - loss: 0.0013\n",
            "Epoch 14/20\n",
            "175/175 [==============================] - 12s 66ms/step - loss: 0.0013\n",
            "Epoch 15/20\n",
            "175/175 [==============================] - 12s 66ms/step - loss: 0.0012\n",
            "Epoch 16/20\n",
            "175/175 [==============================] - 12s 67ms/step - loss: 0.0011\n",
            "Epoch 17/20\n",
            "175/175 [==============================] - 12s 67ms/step - loss: 0.0010\n",
            "Epoch 18/20\n",
            "175/175 [==============================] - 12s 67ms/step - loss: 0.0012\n",
            "Epoch 19/20\n",
            "175/175 [==============================] - 12s 66ms/step - loss: 9.8435e-04\n",
            "Epoch 20/20\n",
            "175/175 [==============================] - 12s 66ms/step - loss: 9.3149e-04\n"
          ]
        }
      ]
    },
    {
      "cell_type": "code",
      "metadata": {
        "id": "IQGWqizPXDrh"
      },
      "source": [
        ""
      ],
      "execution_count": null,
      "outputs": []
    },
    {
      "cell_type": "code",
      "metadata": {
        "id": "AELQAAvJXEGp"
      },
      "source": [
        ""
      ],
      "execution_count": null,
      "outputs": []
    },
    {
      "cell_type": "code",
      "metadata": {
        "id": "4KSjwhrvwPBX"
      },
      "source": [
        ""
      ],
      "execution_count": null,
      "outputs": []
    },
    {
      "cell_type": "markdown",
      "metadata": {
        "id": "jxJwHQ-vgbDD"
      },
      "source": [
        "#Real time price"
      ]
    },
    {
      "cell_type": "code",
      "metadata": {
        "colab": {
          "base_uri": "https://localhost:8080/",
          "height": 559
        },
        "id": "ARdPk-KVj_Ml",
        "outputId": "7552eabd-c322-4870-d337-7bcae45da277"
      },
      "source": [
        "# Raw Package\n",
        "import numpy as np\n",
        "import pandas as pd\n",
        "\n",
        "#Data Source\n",
        "import yfinance as yf\n",
        "\n",
        "#Data viz\n",
        "import plotly.graph_objs as go\n",
        "\n",
        "# Get Bitcoin data\n",
        "data = yf.download(tickers='BTC-USD', period = '22h', interval = '15m')\n",
        "\n",
        "#declare figure\n",
        "fig = go.Figure()\n",
        "\n",
        "#Candlestick\n",
        "fig.add_trace(go.Candlestick(x=data.index,\n",
        "                open=data['Open'],\n",
        "                high=data['High'],\n",
        "                low=data['Low'],\n",
        "                close=data['Close'], name = 'market data'))\n",
        "\n",
        "# Add titles\n",
        "fig.update_layout(\n",
        "    title='Bitcoin live share price evolution',\n",
        "    yaxis_title='Bitcoin Price (kUS Dollars)')\n",
        "\n",
        "# X-Axes\n",
        "fig.update_xaxes(\n",
        "    rangeslider_visible=True,\n",
        "    rangeselector=dict(\n",
        "        buttons=list([\n",
        "            dict(count=15, label=\"15m\", step=\"minute\", stepmode=\"backward\"),\n",
        "            dict(count=45, label=\"45m\", step=\"minute\", stepmode=\"backward\"),\n",
        "            dict(count=1, label=\"HTD\", step=\"hour\", stepmode=\"todate\"),\n",
        "            dict(count=6, label=\"6h\", step=\"hour\", stepmode=\"backward\"),\n",
        "            dict(step=\"all\")\n",
        "        ])\n",
        "    )\n",
        ")\n",
        "\n",
        "#Show\n",
        "fig.show()"
      ],
      "execution_count": null,
      "outputs": [
        {
          "output_type": "stream",
          "name": "stdout",
          "text": [
            "\r[*********************100%***********************]  1 of 1 completed\n"
          ]
        },
        {
          "output_type": "display_data",
          "data": {
            "text/html": [
              "<html>\n",
              "<head><meta charset=\"utf-8\" /></head>\n",
              "<body>\n",
              "    <div>\n",
              "            <script src=\"https://cdnjs.cloudflare.com/ajax/libs/mathjax/2.7.5/MathJax.js?config=TeX-AMS-MML_SVG\"></script><script type=\"text/javascript\">if (window.MathJax) {MathJax.Hub.Config({SVG: {font: \"STIX-Web\"}});}</script>\n",
              "                <script type=\"text/javascript\">window.PlotlyConfig = {MathJaxConfig: 'local'};</script>\n",
              "        <script src=\"https://cdn.plot.ly/plotly-latest.min.js\"></script>    \n",
              "            <div id=\"a5640ba1-b332-4195-b00a-b27651d7cd6f\" class=\"plotly-graph-div\" style=\"height:525px; width:100%;\"></div>\n",
              "            <script type=\"text/javascript\">\n",
              "                \n",
              "                    window.PLOTLYENV=window.PLOTLYENV || {};\n",
              "                    \n",
              "                if (document.getElementById(\"a5640ba1-b332-4195-b00a-b27651d7cd6f\")) {\n",
              "                    Plotly.newPlot(\n",
              "                        'a5640ba1-b332-4195-b00a-b27651d7cd6f',\n",
              "                        [{\"close\": [46177.87109375, 46069.828125, 45964.125, 46058.765625, 45568.51171875, 45365.8046875, 45231.05859375, 45178.3046875, 45172.33203125, 45018.234375, 45075.98046875, 44918.6953125, 44992.40234375, 45099.9453125, 44932.453125, 44863.55078125, 44617.2265625, 44641.953125, 44646.6953125, 44692.05859375, 44533.05078125, 44741.22265625, 44732.24609375, 44720.08203125, 44761.65625, 44823.09375, 44791.9140625, 44824.73046875, 44767.1953125, 44329.12890625, 44467.71484375, 44454.0, 44390.140625, 44379.5, 44322.6875, 44436.6953125, 44493.96875, 44476.98046875, 44555.39453125, 44509.01171875, 44652.23828125, 44653.53125, 44594.4140625, 44668.0625, 44404.734375, 44641.578125, 44751.6328125, 44895.0625, 44945.02734375, 44731.671875, 44743.9296875, 44645.0234375, 44679.85546875, 44760.78515625, 46086.4453125, 46345.20703125, 44323.24609375, 44142.015625, 44064.4140625, 44008.08203125, 44167.83203125, 44277.89453125, 44398.7734375, 44417.41015625, 44239.80859375, 44315.4765625, 44288.6953125, 44419.2109375, 44458.69140625, 44479.16015625, 44449.12890625, 44459.2109375, 44409.69921875, 44565.54296875, 44717.8671875, 44676.15234375, 44665.296875, 44783.09765625, 44735.84765625, 44781.84765625, 44905.3671875, 44808.94140625, 44923.8984375, 45156.46875, 45120.25, 45136.34375], \"high\": [46177.87109375, 46237.13671875, 46107.578125, 46117.5703125, 46072.23046875, 45515.05859375, 45413.37109375, 45244.41796875, 45246.6171875, 45197.7578125, 45203.76171875, 45072.6796875, 45057.12890625, 45116.09375, 45048.84765625, 45027.42578125, 44748.1640625, 44768.09375, 44733.15625, 44692.05859375, 44733.8984375, 44741.22265625, 44732.24609375, 44959.62109375, 44767.6875, 44846.91015625, 44900.98828125, 44842.01953125, 44903.234375, 44773.17578125, 44534.97265625, 44509.8515625, 44552.75390625, 44432.92578125, 44554.25, 44441.28125, 44520.40234375, 44524.56640625, 44616.59765625, 44587.19140625, 44652.23828125, 44736.984375, 44684.3828125, 44695.83984375, 44705.78125, 44736.9765625, 44832.90625, 44895.0625, 44973.1796875, 44964.7734375, 44806.1171875, 44788.43359375, 44727.5390625, 44791.8984375, 46086.4453125, 46598.6796875, 46219.9375, 44443.44921875, 44224.8359375, 44201.09765625, 44194.61328125, 44277.89453125, 44518.6796875, 44432.48828125, 44452.15234375, 44354.47265625, 44366.0234375, 44437.62890625, 44515.25, 44545.08984375, 44485.41796875, 44518.515625, 44505.421875, 44567.35546875, 44717.8671875, 44707.65625, 44772.84375, 44783.09765625, 44796.0078125, 44790.6015625, 44919.56640625, 44895.5078125, 44929.05859375, 45156.46875, 45460.640625, 45136.34375], \"low\": [46160.25, 46069.828125, 45959.65625, 45951.8828125, 45568.51171875, 45357.36328125, 45211.8984375, 45174.43359375, 45130.69140625, 45018.234375, 44972.78515625, 44918.6953125, 44873.54296875, 44999.8203125, 44932.453125, 44863.55078125, 44617.2265625, 44620.9296875, 44590.58984375, 44589.97265625, 44533.05078125, 44458.875, 44650.45703125, 44720.08203125, 44632.74609375, 44682.25, 44760.97265625, 44772.7109375, 44767.1953125, 44329.12890625, 44302.8515625, 44276.5, 44364.1796875, 44240.46484375, 44322.6875, 44283.0625, 44430.23828125, 44407.92578125, 44417.12109375, 44457.5859375, 44498.35546875, 44592.81640625, 44580.5859375, 44562.37109375, 44404.734375, 44299.05078125, 44619.8828125, 44666.0546875, 44848.61328125, 44710.59375, 44719.2421875, 44617.12109375, 44607.87890625, 44693.53125, 44763.140625, 46245.53515625, 44323.24609375, 43591.3203125, 43804.99609375, 44008.08203125, 43977.41796875, 44075.71875, 44272.62890625, 44328.18359375, 44239.59375, 44218.76171875, 44275.5390625, 44270.2578125, 44447.765625, 44386.26171875, 44347.30859375, 44459.2109375, 44409.69921875, 44412.5, 44574.0625, 44656.16796875, 44665.296875, 44655.7734375, 44733.35546875, 44691.83984375, 44770.37109375, 44807.125, 44803.1015625, 44902.49609375, 45120.25, 45136.34375], \"name\": \"market data\", \"open\": [46160.25, 46177.23046875, 46096.97265625, 45951.8828125, 46042.578125, 45501.2265625, 45413.37109375, 45240.328125, 45204.02734375, 45197.7578125, 45048.6015625, 45072.6796875, 44962.6328125, 45017.2578125, 45048.84765625, 44923.84375, 44660.1484375, 44620.9296875, 44651.953125, 44639.6171875, 44717.52734375, 44509.375, 44716.60546875, 44792.265625, 44767.6875, 44779.796875, 44816.42578125, 44807.01171875, 44832.26171875, 44773.17578125, 44369.78125, 44436.34765625, 44503.64453125, 44290.0078125, 44393.96484375, 44303.6953125, 44430.23828125, 44453.62109375, 44476.13671875, 44561.328125, 44528.3828125, 44650.50390625, 44684.3828125, 44590.82421875, 44705.78125, 44299.05078125, 44619.8828125, 44744.453125, 44891.390625, 44946.81640625, 44756.1171875, 44726.94921875, 44647.86328125, 44693.53125, 44763.140625, 46274.37109375, 46219.9375, 44316.87109375, 44111.35546875, 44030.6328125, 43977.41796875, 44145.75, 44272.62890625, 44404.65234375, 44394.59375, 44286.5703125, 44307.20703125, 44282.453125, 44447.765625, 44446.28515625, 44435.59375, 44469.203125, 44485.25390625, 44425.1953125, 44574.0625, 44707.65625, 44717.0, 44667.640625, 44783.7421875, 44724.4921875, 44770.37109375, 44887.8828125, 44803.1015625, 44925.5625, 45168.2734375, 45136.34375], \"type\": \"candlestick\", \"x\": [\"2021-09-13T01:00:00+01:00\", \"2021-09-13T01:15:00+01:00\", \"2021-09-13T01:30:00+01:00\", \"2021-09-13T01:45:00+01:00\", \"2021-09-13T02:00:00+01:00\", \"2021-09-13T02:15:00+01:00\", \"2021-09-13T02:30:00+01:00\", \"2021-09-13T02:45:00+01:00\", \"2021-09-13T03:00:00+01:00\", \"2021-09-13T03:15:00+01:00\", \"2021-09-13T03:30:00+01:00\", \"2021-09-13T03:45:00+01:00\", \"2021-09-13T04:00:00+01:00\", \"2021-09-13T04:15:00+01:00\", \"2021-09-13T04:30:00+01:00\", \"2021-09-13T04:45:00+01:00\", \"2021-09-13T05:00:00+01:00\", \"2021-09-13T05:15:00+01:00\", \"2021-09-13T05:30:00+01:00\", \"2021-09-13T05:45:00+01:00\", \"2021-09-13T06:00:00+01:00\", \"2021-09-13T06:15:00+01:00\", \"2021-09-13T06:30:00+01:00\", \"2021-09-13T06:45:00+01:00\", \"2021-09-13T07:00:00+01:00\", \"2021-09-13T07:15:00+01:00\", \"2021-09-13T07:30:00+01:00\", \"2021-09-13T07:45:00+01:00\", \"2021-09-13T08:00:00+01:00\", \"2021-09-13T08:15:00+01:00\", \"2021-09-13T08:30:00+01:00\", \"2021-09-13T08:45:00+01:00\", \"2021-09-13T09:00:00+01:00\", \"2021-09-13T09:15:00+01:00\", \"2021-09-13T09:30:00+01:00\", \"2021-09-13T09:45:00+01:00\", \"2021-09-13T10:00:00+01:00\", \"2021-09-13T10:15:00+01:00\", \"2021-09-13T10:30:00+01:00\", \"2021-09-13T10:45:00+01:00\", \"2021-09-13T11:00:00+01:00\", \"2021-09-13T11:15:00+01:00\", \"2021-09-13T11:30:00+01:00\", \"2021-09-13T11:45:00+01:00\", \"2021-09-13T12:00:00+01:00\", \"2021-09-13T12:15:00+01:00\", \"2021-09-13T12:30:00+01:00\", \"2021-09-13T12:45:00+01:00\", \"2021-09-13T13:00:00+01:00\", \"2021-09-13T13:15:00+01:00\", \"2021-09-13T13:30:00+01:00\", \"2021-09-13T13:45:00+01:00\", \"2021-09-13T14:00:00+01:00\", \"2021-09-13T14:15:00+01:00\", \"2021-09-13T14:30:00+01:00\", \"2021-09-13T14:45:00+01:00\", \"2021-09-13T15:00:00+01:00\", \"2021-09-13T15:15:00+01:00\", \"2021-09-13T15:30:00+01:00\", \"2021-09-13T15:45:00+01:00\", \"2021-09-13T16:00:00+01:00\", \"2021-09-13T16:15:00+01:00\", \"2021-09-13T16:30:00+01:00\", \"2021-09-13T16:45:00+01:00\", \"2021-09-13T17:00:00+01:00\", \"2021-09-13T17:15:00+01:00\", \"2021-09-13T17:30:00+01:00\", \"2021-09-13T17:45:00+01:00\", \"2021-09-13T18:00:00+01:00\", \"2021-09-13T18:15:00+01:00\", \"2021-09-13T18:30:00+01:00\", \"2021-09-13T18:45:00+01:00\", \"2021-09-13T19:00:00+01:00\", \"2021-09-13T19:15:00+01:00\", \"2021-09-13T19:30:00+01:00\", \"2021-09-13T19:45:00+01:00\", \"2021-09-13T20:00:00+01:00\", \"2021-09-13T20:15:00+01:00\", \"2021-09-13T20:30:00+01:00\", \"2021-09-13T20:45:00+01:00\", \"2021-09-13T21:00:00+01:00\", \"2021-09-13T21:15:00+01:00\", \"2021-09-13T21:30:00+01:00\", \"2021-09-13T21:45:00+01:00\", \"2021-09-13T22:00:00+01:00\", \"2021-09-13T22:11:05+01:00\"]}],\n",
              "                        {\"template\": {\"data\": {\"bar\": [{\"error_x\": {\"color\": \"#2a3f5f\"}, \"error_y\": {\"color\": \"#2a3f5f\"}, \"marker\": {\"line\": {\"color\": \"#E5ECF6\", \"width\": 0.5}}, \"type\": \"bar\"}], \"barpolar\": [{\"marker\": {\"line\": {\"color\": \"#E5ECF6\", \"width\": 0.5}}, \"type\": \"barpolar\"}], \"carpet\": [{\"aaxis\": {\"endlinecolor\": \"#2a3f5f\", \"gridcolor\": \"white\", \"linecolor\": \"white\", \"minorgridcolor\": \"white\", \"startlinecolor\": \"#2a3f5f\"}, \"baxis\": {\"endlinecolor\": \"#2a3f5f\", \"gridcolor\": \"white\", \"linecolor\": \"white\", \"minorgridcolor\": \"white\", \"startlinecolor\": \"#2a3f5f\"}, \"type\": \"carpet\"}], \"choropleth\": [{\"colorbar\": {\"outlinewidth\": 0, \"ticks\": \"\"}, \"type\": \"choropleth\"}], \"contour\": [{\"colorbar\": {\"outlinewidth\": 0, \"ticks\": \"\"}, \"colorscale\": [[0.0, \"#0d0887\"], [0.1111111111111111, \"#46039f\"], [0.2222222222222222, \"#7201a8\"], [0.3333333333333333, \"#9c179e\"], [0.4444444444444444, \"#bd3786\"], [0.5555555555555556, \"#d8576b\"], [0.6666666666666666, \"#ed7953\"], [0.7777777777777778, \"#fb9f3a\"], [0.8888888888888888, \"#fdca26\"], [1.0, \"#f0f921\"]], \"type\": \"contour\"}], \"contourcarpet\": [{\"colorbar\": {\"outlinewidth\": 0, \"ticks\": \"\"}, \"type\": \"contourcarpet\"}], \"heatmap\": [{\"colorbar\": {\"outlinewidth\": 0, \"ticks\": \"\"}, \"colorscale\": [[0.0, \"#0d0887\"], [0.1111111111111111, \"#46039f\"], [0.2222222222222222, \"#7201a8\"], [0.3333333333333333, \"#9c179e\"], [0.4444444444444444, \"#bd3786\"], [0.5555555555555556, \"#d8576b\"], [0.6666666666666666, \"#ed7953\"], [0.7777777777777778, \"#fb9f3a\"], [0.8888888888888888, \"#fdca26\"], [1.0, \"#f0f921\"]], \"type\": \"heatmap\"}], \"heatmapgl\": [{\"colorbar\": {\"outlinewidth\": 0, \"ticks\": \"\"}, \"colorscale\": [[0.0, \"#0d0887\"], [0.1111111111111111, \"#46039f\"], [0.2222222222222222, \"#7201a8\"], [0.3333333333333333, \"#9c179e\"], [0.4444444444444444, \"#bd3786\"], [0.5555555555555556, \"#d8576b\"], [0.6666666666666666, \"#ed7953\"], [0.7777777777777778, \"#fb9f3a\"], [0.8888888888888888, \"#fdca26\"], [1.0, \"#f0f921\"]], \"type\": \"heatmapgl\"}], \"histogram\": [{\"marker\": {\"colorbar\": {\"outlinewidth\": 0, \"ticks\": \"\"}}, \"type\": \"histogram\"}], \"histogram2d\": [{\"colorbar\": {\"outlinewidth\": 0, \"ticks\": \"\"}, \"colorscale\": [[0.0, \"#0d0887\"], [0.1111111111111111, \"#46039f\"], [0.2222222222222222, \"#7201a8\"], [0.3333333333333333, \"#9c179e\"], [0.4444444444444444, \"#bd3786\"], [0.5555555555555556, \"#d8576b\"], [0.6666666666666666, \"#ed7953\"], [0.7777777777777778, \"#fb9f3a\"], [0.8888888888888888, \"#fdca26\"], [1.0, \"#f0f921\"]], \"type\": \"histogram2d\"}], \"histogram2dcontour\": [{\"colorbar\": {\"outlinewidth\": 0, \"ticks\": \"\"}, \"colorscale\": [[0.0, \"#0d0887\"], [0.1111111111111111, \"#46039f\"], [0.2222222222222222, \"#7201a8\"], [0.3333333333333333, \"#9c179e\"], [0.4444444444444444, \"#bd3786\"], [0.5555555555555556, \"#d8576b\"], [0.6666666666666666, \"#ed7953\"], [0.7777777777777778, \"#fb9f3a\"], [0.8888888888888888, \"#fdca26\"], [1.0, \"#f0f921\"]], \"type\": \"histogram2dcontour\"}], \"mesh3d\": [{\"colorbar\": {\"outlinewidth\": 0, \"ticks\": \"\"}, \"type\": \"mesh3d\"}], \"parcoords\": [{\"line\": {\"colorbar\": {\"outlinewidth\": 0, \"ticks\": \"\"}}, \"type\": \"parcoords\"}], \"pie\": [{\"automargin\": true, \"type\": \"pie\"}], \"scatter\": [{\"marker\": {\"colorbar\": {\"outlinewidth\": 0, \"ticks\": \"\"}}, \"type\": \"scatter\"}], \"scatter3d\": [{\"line\": {\"colorbar\": {\"outlinewidth\": 0, \"ticks\": \"\"}}, \"marker\": {\"colorbar\": {\"outlinewidth\": 0, \"ticks\": \"\"}}, \"type\": \"scatter3d\"}], \"scattercarpet\": [{\"marker\": {\"colorbar\": {\"outlinewidth\": 0, \"ticks\": \"\"}}, \"type\": \"scattercarpet\"}], \"scattergeo\": [{\"marker\": {\"colorbar\": {\"outlinewidth\": 0, \"ticks\": \"\"}}, \"type\": \"scattergeo\"}], \"scattergl\": [{\"marker\": {\"colorbar\": {\"outlinewidth\": 0, \"ticks\": \"\"}}, \"type\": \"scattergl\"}], \"scattermapbox\": [{\"marker\": {\"colorbar\": {\"outlinewidth\": 0, \"ticks\": \"\"}}, \"type\": \"scattermapbox\"}], \"scatterpolar\": [{\"marker\": {\"colorbar\": {\"outlinewidth\": 0, \"ticks\": \"\"}}, \"type\": \"scatterpolar\"}], \"scatterpolargl\": [{\"marker\": {\"colorbar\": {\"outlinewidth\": 0, \"ticks\": \"\"}}, \"type\": \"scatterpolargl\"}], \"scatterternary\": [{\"marker\": {\"colorbar\": {\"outlinewidth\": 0, \"ticks\": \"\"}}, \"type\": \"scatterternary\"}], \"surface\": [{\"colorbar\": {\"outlinewidth\": 0, \"ticks\": \"\"}, \"colorscale\": [[0.0, \"#0d0887\"], [0.1111111111111111, \"#46039f\"], [0.2222222222222222, \"#7201a8\"], [0.3333333333333333, \"#9c179e\"], [0.4444444444444444, \"#bd3786\"], [0.5555555555555556, \"#d8576b\"], [0.6666666666666666, \"#ed7953\"], [0.7777777777777778, \"#fb9f3a\"], [0.8888888888888888, \"#fdca26\"], [1.0, \"#f0f921\"]], \"type\": \"surface\"}], \"table\": [{\"cells\": {\"fill\": {\"color\": \"#EBF0F8\"}, \"line\": {\"color\": \"white\"}}, \"header\": {\"fill\": {\"color\": \"#C8D4E3\"}, \"line\": {\"color\": \"white\"}}, \"type\": \"table\"}]}, \"layout\": {\"annotationdefaults\": {\"arrowcolor\": \"#2a3f5f\", \"arrowhead\": 0, \"arrowwidth\": 1}, \"coloraxis\": {\"colorbar\": {\"outlinewidth\": 0, \"ticks\": \"\"}}, \"colorscale\": {\"diverging\": [[0, \"#8e0152\"], [0.1, \"#c51b7d\"], [0.2, \"#de77ae\"], [0.3, \"#f1b6da\"], [0.4, \"#fde0ef\"], [0.5, \"#f7f7f7\"], [0.6, \"#e6f5d0\"], [0.7, \"#b8e186\"], [0.8, \"#7fbc41\"], [0.9, \"#4d9221\"], [1, \"#276419\"]], \"sequential\": [[0.0, \"#0d0887\"], [0.1111111111111111, \"#46039f\"], [0.2222222222222222, \"#7201a8\"], [0.3333333333333333, \"#9c179e\"], [0.4444444444444444, \"#bd3786\"], [0.5555555555555556, \"#d8576b\"], [0.6666666666666666, \"#ed7953\"], [0.7777777777777778, \"#fb9f3a\"], [0.8888888888888888, \"#fdca26\"], [1.0, \"#f0f921\"]], \"sequentialminus\": [[0.0, \"#0d0887\"], [0.1111111111111111, \"#46039f\"], [0.2222222222222222, \"#7201a8\"], [0.3333333333333333, \"#9c179e\"], [0.4444444444444444, \"#bd3786\"], [0.5555555555555556, \"#d8576b\"], [0.6666666666666666, \"#ed7953\"], [0.7777777777777778, \"#fb9f3a\"], [0.8888888888888888, \"#fdca26\"], [1.0, \"#f0f921\"]]}, \"colorway\": [\"#636efa\", \"#EF553B\", \"#00cc96\", \"#ab63fa\", \"#FFA15A\", \"#19d3f3\", \"#FF6692\", \"#B6E880\", \"#FF97FF\", \"#FECB52\"], \"font\": {\"color\": \"#2a3f5f\"}, \"geo\": {\"bgcolor\": \"white\", \"lakecolor\": \"white\", \"landcolor\": \"#E5ECF6\", \"showlakes\": true, \"showland\": true, \"subunitcolor\": \"white\"}, \"hoverlabel\": {\"align\": \"left\"}, \"hovermode\": \"closest\", \"mapbox\": {\"style\": \"light\"}, \"paper_bgcolor\": \"white\", \"plot_bgcolor\": \"#E5ECF6\", \"polar\": {\"angularaxis\": {\"gridcolor\": \"white\", \"linecolor\": \"white\", \"ticks\": \"\"}, \"bgcolor\": \"#E5ECF6\", \"radialaxis\": {\"gridcolor\": \"white\", \"linecolor\": \"white\", \"ticks\": \"\"}}, \"scene\": {\"xaxis\": {\"backgroundcolor\": \"#E5ECF6\", \"gridcolor\": \"white\", \"gridwidth\": 2, \"linecolor\": \"white\", \"showbackground\": true, \"ticks\": \"\", \"zerolinecolor\": \"white\"}, \"yaxis\": {\"backgroundcolor\": \"#E5ECF6\", \"gridcolor\": \"white\", \"gridwidth\": 2, \"linecolor\": \"white\", \"showbackground\": true, \"ticks\": \"\", \"zerolinecolor\": \"white\"}, \"zaxis\": {\"backgroundcolor\": \"#E5ECF6\", \"gridcolor\": \"white\", \"gridwidth\": 2, \"linecolor\": \"white\", \"showbackground\": true, \"ticks\": \"\", \"zerolinecolor\": \"white\"}}, \"shapedefaults\": {\"line\": {\"color\": \"#2a3f5f\"}}, \"ternary\": {\"aaxis\": {\"gridcolor\": \"white\", \"linecolor\": \"white\", \"ticks\": \"\"}, \"baxis\": {\"gridcolor\": \"white\", \"linecolor\": \"white\", \"ticks\": \"\"}, \"bgcolor\": \"#E5ECF6\", \"caxis\": {\"gridcolor\": \"white\", \"linecolor\": \"white\", \"ticks\": \"\"}}, \"title\": {\"x\": 0.05}, \"xaxis\": {\"automargin\": true, \"gridcolor\": \"white\", \"linecolor\": \"white\", \"ticks\": \"\", \"title\": {\"standoff\": 15}, \"zerolinecolor\": \"white\", \"zerolinewidth\": 2}, \"yaxis\": {\"automargin\": true, \"gridcolor\": \"white\", \"linecolor\": \"white\", \"ticks\": \"\", \"title\": {\"standoff\": 15}, \"zerolinecolor\": \"white\", \"zerolinewidth\": 2}}}, \"title\": {\"text\": \"Bitcoin live share price evolution\"}, \"xaxis\": {\"rangeselector\": {\"buttons\": [{\"count\": 15, \"label\": \"15m\", \"step\": \"minute\", \"stepmode\": \"backward\"}, {\"count\": 45, \"label\": \"45m\", \"step\": \"minute\", \"stepmode\": \"backward\"}, {\"count\": 1, \"label\": \"HTD\", \"step\": \"hour\", \"stepmode\": \"todate\"}, {\"count\": 6, \"label\": \"6h\", \"step\": \"hour\", \"stepmode\": \"backward\"}, {\"step\": \"all\"}]}, \"rangeslider\": {\"visible\": true}}, \"yaxis\": {\"title\": {\"text\": \"Bitcoin Price (kUS Dollars)\"}}},\n",
              "                        {\"responsive\": true}\n",
              "                    ).then(function(){\n",
              "                            \n",
              "var gd = document.getElementById('a5640ba1-b332-4195-b00a-b27651d7cd6f');\n",
              "var x = new MutationObserver(function (mutations, observer) {{\n",
              "        var display = window.getComputedStyle(gd).display;\n",
              "        if (!display || display === 'none') {{\n",
              "            console.log([gd, 'removed!']);\n",
              "            Plotly.purge(gd);\n",
              "            observer.disconnect();\n",
              "        }}\n",
              "}});\n",
              "\n",
              "// Listen for the removal of the full notebook cells\n",
              "var notebookContainer = gd.closest('#notebook-container');\n",
              "if (notebookContainer) {{\n",
              "    x.observe(notebookContainer, {childList: true});\n",
              "}}\n",
              "\n",
              "// Listen for the clearing of the current output cell\n",
              "var outputEl = gd.closest('.output');\n",
              "if (outputEl) {{\n",
              "    x.observe(outputEl, {childList: true});\n",
              "}}\n",
              "\n",
              "                        })\n",
              "                };\n",
              "                \n",
              "            </script>\n",
              "        </div>\n",
              "</body>\n",
              "</html>"
            ]
          },
          "metadata": {}
        }
      ]
    },
    {
      "cell_type": "code",
      "metadata": {
        "id": "5UL5zTENcy6b"
      },
      "source": [
        ""
      ],
      "execution_count": null,
      "outputs": []
    },
    {
      "cell_type": "markdown",
      "metadata": {
        "id": "-zV0MnNPd5yG"
      },
      "source": [
        "# 7 minutes in the future"
      ]
    },
    {
      "cell_type": "code",
      "metadata": {
        "id": "lhwwzoQpcy9Q",
        "colab": {
          "base_uri": "https://localhost:8080/",
          "height": 974
        },
        "outputId": "8dcbfa6f-3816-4ca8-c104-1e74fc646757"
      },
      "source": [
        "# TEst area for further updates with api \n",
        "\n",
        "\n",
        "# Get the data\n",
        "data = yf.download(tickers='BTC-USD', period = '1d', interval = '1m')\n",
        "\n",
        "dd = data\n",
        "df = data['Close'].values\n",
        "df = df.reshape(-1, 1)\n",
        "dataset_train = np.array(df[:int(df.shape[0]*0.8)])\n",
        "dataset_test = np.array(df[int(df.shape[0]*0.8)-5:])\n",
        "scaler = MinMaxScaler(feature_range=(0,1))\n",
        "dataset_train = scaler.fit_transform(dataset_train)\n",
        "dataset_test = scaler.transform(dataset_test)\n",
        "def create_dataset(df):\n",
        "    x = []\n",
        "    y = []\n",
        "    for i in range(20, df.shape[0]):\n",
        "        x.append(df[i-20:i, 0])\n",
        "        y.append(df[i, 0])\n",
        "    x = np.array(x)\n",
        "    y = np.array(y)\n",
        "    return x,y \n",
        "x_train, y_train = create_dataset(dataset_train)\n",
        "x_test, y_test = create_dataset(dataset_test)\n",
        "# Reshape features for LSTM Layer\n",
        "x_train = np.reshape(x_train, (x_train.shape[0], x_train.shape[1], 1))\n",
        "x_test = np.reshape(x_test, (x_test.shape[0], x_test.shape[1], 1))\n",
        "\n",
        "\n",
        "############\n",
        "# predict close price of next 7m\n",
        "\n",
        "x = x_test[-1]\n",
        "print(type(x))\n",
        "\n",
        "num_timesteps = 7\n",
        "preds = []\n",
        "for i in range(num_timesteps):\n",
        "    data = np.expand_dims(x, axis=0)\n",
        "    #print(data)\n",
        "    prediction = model.predict(data)\n",
        "    prediction = scaler.inverse_transform(prediction)\n",
        "    preds.append(prediction[0][0])\n",
        "    x = np.delete(x, 0, axis=0) # delete first row\n",
        "    x = np.vstack([x, prediction]) # add prediction\n",
        "\n",
        "print(preds)\n",
        "\n",
        "############\n",
        "\n",
        "\n",
        "# plot up next to next 7 minutes\n",
        "\n",
        "date_test =pd.to_datetime(dd.reset_index()['Datetime'][-len(preds):])+ datetime.timedelta(minutes=7)\n",
        "\n",
        "fig, ax = plt.subplots(figsize=(22,17))\n",
        "ax.plot(date_test,preds)\n",
        "# Define the date format\n",
        "\n",
        "date_form = DateFormatter(\"%H-%M\")\n",
        "ax.xaxis.set_major_formatter(date_form)\n",
        "\n",
        "# Ensure a major tick for each week using (interval=1) \n",
        "ax.xaxis.set_major_locator(mdates.MinuteLocator())\n",
        "\n",
        "\n",
        "fig.autofmt_xdate()\n",
        "\n",
        "\n",
        "x= date_test\n",
        "y= preds\n",
        "for i,j in zip(x,y):\n",
        "    ax.annotate(str(j),xy=(i,j), xytext=(7,12), textcoords='offset points', arrowprops=dict(facecolor='red', shrink=0.02))\n",
        "\n",
        "# Set title and labels for axes\n",
        "ax.set(xlabel=\"Mintues\",\n",
        "       ylabel=\"Price\",\n",
        "       title=\"Predicted price for next 7 minutes\",\n",
        "       )\n",
        "\n",
        "\n",
        "plt.show()"
      ],
      "execution_count": null,
      "outputs": [
        {
          "output_type": "stream",
          "name": "stdout",
          "text": [
            "\r[*********************100%***********************]  1 of 1 completed\n",
            "<class 'numpy.ndarray'>\n",
            "[45162.0, 49034.555, 49929.152, 50553.625, 50790.984, 50947.27, 51025.05]\n"
          ]
        },
        {
          "output_type": "display_data",
          "data": {
            "image/png": "[encoded data removed]",
            "text/plain": [
              "<Figure size 1584x1224 with 1 Axes>"
            ]
          },
          "metadata": {
            "needs_background": "light"
          }
        }
      ]
    }
  ]
}